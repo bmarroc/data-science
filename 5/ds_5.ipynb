{
 "cells": [
  {
   "cell_type": "markdown",
   "metadata": {},
   "source": [
    "# Household Power Consumption: prediction of electric usage"
   ]
  },
  {
   "cell_type": "markdown",
   "metadata": {},
   "source": [
    "#### We develop a model that predicts future household electric power consumption from previous usage. The model needs to infer the next twenty four observations based on the past twenty four. The baseline model given to beat throws a test MAE of approximately 0.055. "
   ]
  },
  {
   "cell_type": "markdown",
   "metadata": {},
   "source": [
    "We load the dataset and explore some of its statistics."
   ]
  },
  {
   "cell_type": "code",
   "execution_count": 1,
   "metadata": {},
   "outputs": [],
   "source": [
    "import numpy as np\n",
    "import pandas as pd\n",
    "import matplotlib.pyplot as plt\n",
    "import tensorflow as tf"
   ]
  },
  {
   "cell_type": "code",
   "execution_count": 2,
   "metadata": {},
   "outputs": [
    {
     "data": {
      "text/html": [
       "<div>\n",
       "<style scoped>\n",
       "    .dataframe tbody tr th:only-of-type {\n",
       "        vertical-align: middle;\n",
       "    }\n",
       "\n",
       "    .dataframe tbody tr th {\n",
       "        vertical-align: top;\n",
       "    }\n",
       "\n",
       "    .dataframe thead th {\n",
       "        text-align: right;\n",
       "    }\n",
       "</style>\n",
       "<table border=\"1\" class=\"dataframe\">\n",
       "  <thead>\n",
       "    <tr style=\"text-align: right;\">\n",
       "      <th></th>\n",
       "      <th>datetime</th>\n",
       "      <th>Global_active_power</th>\n",
       "      <th>Global_reactive_power</th>\n",
       "      <th>Voltage</th>\n",
       "      <th>Global_intensity</th>\n",
       "      <th>Sub_metering_1</th>\n",
       "      <th>Sub_metering_2</th>\n",
       "      <th>Sub_metering_3</th>\n",
       "    </tr>\n",
       "  </thead>\n",
       "  <tbody>\n",
       "    <tr>\n",
       "      <td>0</td>\n",
       "      <td>2006-12-16 17:24:00</td>\n",
       "      <td>4.216</td>\n",
       "      <td>0.418</td>\n",
       "      <td>234.84</td>\n",
       "      <td>18.4</td>\n",
       "      <td>0.0</td>\n",
       "      <td>1.0</td>\n",
       "      <td>17.0</td>\n",
       "    </tr>\n",
       "    <tr>\n",
       "      <td>1</td>\n",
       "      <td>2006-12-16 17:25:00</td>\n",
       "      <td>5.360</td>\n",
       "      <td>0.436</td>\n",
       "      <td>233.63</td>\n",
       "      <td>23.0</td>\n",
       "      <td>0.0</td>\n",
       "      <td>1.0</td>\n",
       "      <td>16.0</td>\n",
       "    </tr>\n",
       "    <tr>\n",
       "      <td>2</td>\n",
       "      <td>2006-12-16 17:26:00</td>\n",
       "      <td>5.374</td>\n",
       "      <td>0.498</td>\n",
       "      <td>233.29</td>\n",
       "      <td>23.0</td>\n",
       "      <td>0.0</td>\n",
       "      <td>2.0</td>\n",
       "      <td>17.0</td>\n",
       "    </tr>\n",
       "    <tr>\n",
       "      <td>3</td>\n",
       "      <td>2006-12-16 17:27:00</td>\n",
       "      <td>5.388</td>\n",
       "      <td>0.502</td>\n",
       "      <td>233.74</td>\n",
       "      <td>23.0</td>\n",
       "      <td>0.0</td>\n",
       "      <td>1.0</td>\n",
       "      <td>17.0</td>\n",
       "    </tr>\n",
       "    <tr>\n",
       "      <td>4</td>\n",
       "      <td>2006-12-16 17:28:00</td>\n",
       "      <td>3.666</td>\n",
       "      <td>0.528</td>\n",
       "      <td>235.68</td>\n",
       "      <td>15.8</td>\n",
       "      <td>0.0</td>\n",
       "      <td>1.0</td>\n",
       "      <td>17.0</td>\n",
       "    </tr>\n",
       "  </tbody>\n",
       "</table>\n",
       "</div>"
      ],
      "text/plain": [
       "              datetime  Global_active_power  Global_reactive_power  Voltage  \\\n",
       "0  2006-12-16 17:24:00                4.216                  0.418   234.84   \n",
       "1  2006-12-16 17:25:00                5.360                  0.436   233.63   \n",
       "2  2006-12-16 17:26:00                5.374                  0.498   233.29   \n",
       "3  2006-12-16 17:27:00                5.388                  0.502   233.74   \n",
       "4  2006-12-16 17:28:00                3.666                  0.528   235.68   \n",
       "\n",
       "   Global_intensity  Sub_metering_1  Sub_metering_2  Sub_metering_3  \n",
       "0              18.4             0.0             1.0            17.0  \n",
       "1              23.0             0.0             1.0            16.0  \n",
       "2              23.0             0.0             2.0            17.0  \n",
       "3              23.0             0.0             1.0            17.0  \n",
       "4              15.8             0.0             1.0            17.0  "
      ]
     },
     "execution_count": 2,
     "metadata": {},
     "output_type": "execute_result"
    }
   ],
   "source": [
    "data = pd.read_table('household_power_consumption.csv', sep=',')\n",
    "data.head()"
   ]
  },
  {
   "cell_type": "code",
   "execution_count": 3,
   "metadata": {},
   "outputs": [
    {
     "name": "stdout",
     "output_type": "stream",
     "text": [
      "<class 'pandas.core.frame.DataFrame'>\n",
      "RangeIndex: 86400 entries, 0 to 86399\n",
      "Data columns (total 8 columns):\n",
      "datetime                 86400 non-null object\n",
      "Global_active_power      86400 non-null float64\n",
      "Global_reactive_power    86400 non-null float64\n",
      "Voltage                  86400 non-null float64\n",
      "Global_intensity         86400 non-null float64\n",
      "Sub_metering_1           86400 non-null float64\n",
      "Sub_metering_2           86400 non-null float64\n",
      "Sub_metering_3           86400 non-null float64\n",
      "dtypes: float64(7), object(1)\n",
      "memory usage: 5.3+ MB\n"
     ]
    }
   ],
   "source": [
    "data.info()"
   ]
  },
  {
   "cell_type": "code",
   "execution_count": 4,
   "metadata": {},
   "outputs": [
    {
     "data": {
      "text/html": [
       "<div>\n",
       "<style scoped>\n",
       "    .dataframe tbody tr th:only-of-type {\n",
       "        vertical-align: middle;\n",
       "    }\n",
       "\n",
       "    .dataframe tbody tr th {\n",
       "        vertical-align: top;\n",
       "    }\n",
       "\n",
       "    .dataframe thead th {\n",
       "        text-align: right;\n",
       "    }\n",
       "</style>\n",
       "<table border=\"1\" class=\"dataframe\">\n",
       "  <thead>\n",
       "    <tr style=\"text-align: right;\">\n",
       "      <th></th>\n",
       "      <th>Global_active_power</th>\n",
       "      <th>Global_reactive_power</th>\n",
       "      <th>Voltage</th>\n",
       "      <th>Global_intensity</th>\n",
       "      <th>Sub_metering_1</th>\n",
       "      <th>Sub_metering_2</th>\n",
       "      <th>Sub_metering_3</th>\n",
       "    </tr>\n",
       "  </thead>\n",
       "  <tbody>\n",
       "    <tr>\n",
       "      <td>count</td>\n",
       "      <td>86400.000000</td>\n",
       "      <td>86400.000000</td>\n",
       "      <td>86400.000000</td>\n",
       "      <td>86400.000000</td>\n",
       "      <td>86400.000000</td>\n",
       "      <td>86400.000000</td>\n",
       "      <td>86400.000000</td>\n",
       "    </tr>\n",
       "    <tr>\n",
       "      <td>mean</td>\n",
       "      <td>1.644244</td>\n",
       "      <td>0.128601</td>\n",
       "      <td>240.964285</td>\n",
       "      <td>6.952023</td>\n",
       "      <td>1.305127</td>\n",
       "      <td>1.878669</td>\n",
       "      <td>7.514213</td>\n",
       "    </tr>\n",
       "    <tr>\n",
       "      <td>std</td>\n",
       "      <td>1.335542</td>\n",
       "      <td>0.117621</td>\n",
       "      <td>3.498536</td>\n",
       "      <td>5.629463</td>\n",
       "      <td>6.682567</td>\n",
       "      <td>7.567679</td>\n",
       "      <td>8.671909</td>\n",
       "    </tr>\n",
       "    <tr>\n",
       "      <td>min</td>\n",
       "      <td>0.194000</td>\n",
       "      <td>0.000000</td>\n",
       "      <td>224.680000</td>\n",
       "      <td>0.800000</td>\n",
       "      <td>0.000000</td>\n",
       "      <td>0.000000</td>\n",
       "      <td>0.000000</td>\n",
       "    </tr>\n",
       "    <tr>\n",
       "      <td>25%</td>\n",
       "      <td>0.396000</td>\n",
       "      <td>0.000000</td>\n",
       "      <td>238.610000</td>\n",
       "      <td>1.800000</td>\n",
       "      <td>0.000000</td>\n",
       "      <td>0.000000</td>\n",
       "      <td>0.000000</td>\n",
       "    </tr>\n",
       "    <tr>\n",
       "      <td>50%</td>\n",
       "      <td>1.416000</td>\n",
       "      <td>0.116000</td>\n",
       "      <td>241.220000</td>\n",
       "      <td>5.800000</td>\n",
       "      <td>0.000000</td>\n",
       "      <td>0.000000</td>\n",
       "      <td>0.000000</td>\n",
       "    </tr>\n",
       "    <tr>\n",
       "      <td>75%</td>\n",
       "      <td>2.414000</td>\n",
       "      <td>0.196000</td>\n",
       "      <td>243.470000</td>\n",
       "      <td>10.000000</td>\n",
       "      <td>0.000000</td>\n",
       "      <td>1.000000</td>\n",
       "      <td>17.000000</td>\n",
       "    </tr>\n",
       "    <tr>\n",
       "      <td>max</td>\n",
       "      <td>9.272000</td>\n",
       "      <td>0.874000</td>\n",
       "      <td>251.700000</td>\n",
       "      <td>40.400000</td>\n",
       "      <td>77.000000</td>\n",
       "      <td>78.000000</td>\n",
       "      <td>20.000000</td>\n",
       "    </tr>\n",
       "  </tbody>\n",
       "</table>\n",
       "</div>"
      ],
      "text/plain": [
       "       Global_active_power  Global_reactive_power       Voltage  \\\n",
       "count         86400.000000           86400.000000  86400.000000   \n",
       "mean              1.644244               0.128601    240.964285   \n",
       "std               1.335542               0.117621      3.498536   \n",
       "min               0.194000               0.000000    224.680000   \n",
       "25%               0.396000               0.000000    238.610000   \n",
       "50%               1.416000               0.116000    241.220000   \n",
       "75%               2.414000               0.196000    243.470000   \n",
       "max               9.272000               0.874000    251.700000   \n",
       "\n",
       "       Global_intensity  Sub_metering_1  Sub_metering_2  Sub_metering_3  \n",
       "count      86400.000000    86400.000000    86400.000000    86400.000000  \n",
       "mean           6.952023        1.305127        1.878669        7.514213  \n",
       "std            5.629463        6.682567        7.567679        8.671909  \n",
       "min            0.800000        0.000000        0.000000        0.000000  \n",
       "25%            1.800000        0.000000        0.000000        0.000000  \n",
       "50%            5.800000        0.000000        0.000000        0.000000  \n",
       "75%           10.000000        0.000000        1.000000       17.000000  \n",
       "max           40.400000       77.000000       78.000000       20.000000  "
      ]
     },
     "execution_count": 4,
     "metadata": {},
     "output_type": "execute_result"
    }
   ],
   "source": [
    "data.describe()"
   ]
  },
  {
   "cell_type": "markdown",
   "metadata": {},
   "source": [
    "The dataset is quite clean so we procede to the other steps in preparation for training a model."
   ]
  },
  {
   "cell_type": "markdown",
   "metadata": {},
   "source": [
    "-----"
   ]
  },
  {
   "cell_type": "markdown",
   "metadata": {},
   "source": [
    "Here we define the dataset for training and testing. The split time was provided to us and couldn't be changed."
   ]
  },
  {
   "cell_type": "code",
   "execution_count": 5,
   "metadata": {},
   "outputs": [],
   "source": [
    "data_ = data.values[:,1:]\n",
    "\n",
    "data_min = np.min(data_, axis=0)\n",
    "data_max = np.max(data_, axis=0)"
   ]
  },
  {
   "cell_type": "code",
   "execution_count": 6,
   "metadata": {},
   "outputs": [],
   "source": [
    "split_time = 69120\n",
    "\n",
    "t_train = np.array(range(0,split_time+1))\n",
    "x_train = (data_[:split_time,:]-data_min)/data_max\n",
    "\n",
    "t_test = np.array(range(split_time+1,data.shape[0]+1))\n",
    "x_test = (data_[split_time:,:]-data_min)/data_max"
   ]
  },
  {
   "cell_type": "code",
   "execution_count": 7,
   "metadata": {},
   "outputs": [],
   "source": [
    "n_past = 24  \n",
    "n_future = 24 \n",
    "window_size = n_past + n_future\n",
    "\n",
    "X_train = []\n",
    "Y_train = []\n",
    "for i in range(x_train.shape[0]-window_size):\n",
    "    X_train.append(x_train[i:i+n_past,:])\n",
    "    Y_train.append(x_train[i+n_past:i+window_size,:])\n",
    "X_train = np.array(X_train, dtype='float32')\n",
    "Y_train = np.array(Y_train, dtype='float32')\n",
    "\n",
    "X_test = []\n",
    "Y_test = []\n",
    "for i in range(x_test.shape[0]-window_size):\n",
    "    X_test.append(x_test[i:i+n_past,:])\n",
    "    Y_test.append(x_test[i+n_past:i+window_size,:])\n",
    "X_test = np.array(X_test, dtype='float32')\n",
    "Y_test = np.array(Y_test, dtype='float32')"
   ]
  },
  {
   "cell_type": "code",
   "execution_count": 8,
   "metadata": {},
   "outputs": [
    {
     "data": {
      "text/plain": [
       "((69072, 24, 7), (69072, 24, 7), (17232, 24, 7), (17232, 24, 7))"
      ]
     },
     "execution_count": 8,
     "metadata": {},
     "output_type": "execute_result"
    }
   ],
   "source": [
    "X_train.shape, Y_train.shape, X_test.shape, Y_test.shape"
   ]
  },
  {
   "cell_type": "markdown",
   "metadata": {},
   "source": [
    "-----"
   ]
  },
  {
   "cell_type": "markdown",
   "metadata": {},
   "source": [
    "Here we train our first model, a Deep Neural Network with LSTM."
   ]
  },
  {
   "cell_type": "code",
   "execution_count": 9,
   "metadata": {},
   "outputs": [],
   "source": [
    "def Model_1():\n",
    "    f1 = tf.keras.layers.LSTM(units=128,\n",
    "                              activation='tanh',\n",
    "                              recurrent_activation='sigmoid',\n",
    "                              kernel_initializer='glorot_uniform',\n",
    "                              bias_initializer='zeros',\n",
    "                              recurrent_initializer='zeros',\n",
    "                              return_sequences=True,\n",
    "                              return_state = False)\n",
    "    f2 = tf.keras.layers.Dropout(rate=0.5)\n",
    "    f3 = tf.keras.layers.Dense(units=Y_train.shape[1:][1],\n",
    "                              activation='linear',\n",
    "                              kernel_initializer='glorot_uniform',\n",
    "                              bias_initializer='zeros')\n",
    "    x = tf.keras.Input(shape=X_train.shape[1:])\n",
    "    a1 = f1(x)\n",
    "    a2 = f2(a1)\n",
    "    y = f3(a2)\n",
    "    model = tf.keras.Model(x, y)   \n",
    "    optimizer = tf.keras.optimizers.Adam(learning_rate=0.001, \n",
    "                                         beta_1=0.9, \n",
    "                                         beta_2=0.999, \n",
    "                                         epsilon=1e-07)\n",
    "    model.compile(loss='huber_loss', metrics=['mae'], optimizer=optimizer)\n",
    "    model.summary()\n",
    "    callback1 = tf.keras.callbacks.ReduceLROnPlateau(monitor='loss', \n",
    "                                                     patience=10,\n",
    "                                                     min_delta=0.001,\n",
    "                                                     factor=0.1, \n",
    "                                                     min_lr=0.0001)\n",
    "    callback2 = tf.keras.callbacks.EarlyStopping(monitor='loss',\n",
    "                                                 patience=20,\n",
    "                                                 min_delta=0.001)\n",
    "    model.fit(X_train, Y_train, epochs=100, batch_size=64, callbacks=[callback1, callback2], validation_data=(X_test, Y_test))\n",
    "    return model"
   ]
  },
  {
   "cell_type": "code",
   "execution_count": 10,
   "metadata": {},
   "outputs": [
    {
     "name": "stdout",
     "output_type": "stream",
     "text": [
      "Model: \"model\"\n",
      "_________________________________________________________________\n",
      "Layer (type)                 Output Shape              Param #   \n",
      "=================================================================\n",
      "input_1 (InputLayer)         [(None, 24, 7)]           0         \n",
      "_________________________________________________________________\n",
      "lstm (LSTM)                  (None, 24, 128)           69632     \n",
      "_________________________________________________________________\n",
      "dropout (Dropout)            (None, 24, 128)           0         \n",
      "_________________________________________________________________\n",
      "dense (Dense)                (None, 24, 7)             903       \n",
      "=================================================================\n",
      "Total params: 70,535\n",
      "Trainable params: 70,535\n",
      "Non-trainable params: 0\n",
      "_________________________________________________________________\n",
      "Train on 69072 samples, validate on 17232 samples\n",
      "Epoch 1/100\n",
      "69072/69072 [==============================] - 30s 428us/sample - loss: 0.0101 - mae: 0.0754 - val_loss: 0.0089 - val_mae: 0.0688\n",
      "Epoch 2/100\n",
      "69072/69072 [==============================] - 31s 442us/sample - loss: 0.0094 - mae: 0.0697 - val_loss: 0.0088 - val_mae: 0.0681\n",
      "Epoch 3/100\n",
      "69072/69072 [==============================] - 30s 429us/sample - loss: 0.0093 - mae: 0.0692 - val_loss: 0.0088 - val_mae: 0.0688\n",
      "Epoch 4/100\n",
      "69072/69072 [==============================] - 29s 420us/sample - loss: 0.0093 - mae: 0.0691 - val_loss: 0.0087 - val_mae: 0.0679\n",
      "Epoch 5/100\n",
      "69072/69072 [==============================] - 28s 410us/sample - loss: 0.0093 - mae: 0.0690 - val_loss: 0.0088 - val_mae: 0.0687\n",
      "Epoch 6/100\n",
      "69072/69072 [==============================] - 28s 404us/sample - loss: 0.0092 - mae: 0.0688 - val_loss: 0.0087 - val_mae: 0.0675\n",
      "Epoch 7/100\n",
      "69072/69072 [==============================] - 27s 397us/sample - loss: 0.0092 - mae: 0.0687 - val_loss: 0.0087 - val_mae: 0.0657\n",
      "Epoch 8/100\n",
      "69072/69072 [==============================] - 29s 423us/sample - loss: 0.0092 - mae: 0.0686 - val_loss: 0.0088 - val_mae: 0.0673\n",
      "Epoch 9/100\n",
      "69072/69072 [==============================] - 30s 435us/sample - loss: 0.0092 - mae: 0.0685 - val_loss: 0.0088 - val_mae: 0.0658\n",
      "Epoch 10/100\n",
      "69072/69072 [==============================] - 28s 402us/sample - loss: 0.0091 - mae: 0.0685 - val_loss: 0.0087 - val_mae: 0.0685\n",
      "Epoch 11/100\n",
      "69072/69072 [==============================] - 28s 409us/sample - loss: 0.0091 - mae: 0.0684 - val_loss: 0.0088 - val_mae: 0.0679\n",
      "Epoch 12/100\n",
      "69072/69072 [==============================] - 29s 419us/sample - loss: 0.0091 - mae: 0.0683 - val_loss: 0.0089 - val_mae: 0.0713\n",
      "Epoch 13/100\n",
      "69072/69072 [==============================] - 30s 440us/sample - loss: 0.0091 - mae: 0.0683 - val_loss: 0.0088 - val_mae: 0.0685\n",
      "Epoch 14/100\n",
      "69072/69072 [==============================] - 28s 409us/sample - loss: 0.0091 - mae: 0.0683 - val_loss: 0.0088 - val_mae: 0.0668\n",
      "Epoch 15/100\n",
      "69072/69072 [==============================] - 29s 423us/sample - loss: 0.0090 - mae: 0.0682 - val_loss: 0.0088 - val_mae: 0.0685\n",
      "Epoch 16/100\n",
      "69072/69072 [==============================] - 29s 416us/sample - loss: 0.0090 - mae: 0.0681 - val_loss: 0.0088 - val_mae: 0.0693\n",
      "Epoch 17/100\n",
      "69072/69072 [==============================] - 35s 500us/sample - loss: 0.0090 - mae: 0.0681 - val_loss: 0.0089 - val_mae: 0.0682\n",
      "Epoch 18/100\n",
      "69072/69072 [==============================] - 29s 418us/sample - loss: 0.0090 - mae: 0.0680 - val_loss: 0.0089 - val_mae: 0.0681\n",
      "Epoch 19/100\n",
      "69072/69072 [==============================] - 31s 451us/sample - loss: 0.0090 - mae: 0.0679 - val_loss: 0.0089 - val_mae: 0.0692\n",
      "Epoch 20/100\n",
      "69072/69072 [==============================] - 31s 454us/sample - loss: 0.0089 - mae: 0.0679 - val_loss: 0.0089 - val_mae: 0.0662\n",
      "Epoch 21/100\n",
      "69072/69072 [==============================] - 30s 428us/sample - loss: 0.0089 - mae: 0.0678 - val_loss: 0.0088 - val_mae: 0.0662\n",
      "Epoch 22/100\n",
      "69072/69072 [==============================] - 30s 432us/sample - loss: 0.0088 - mae: 0.0672 - val_loss: 0.0089 - val_mae: 0.0677\n",
      "Epoch 23/100\n",
      "69072/69072 [==============================] - 34s 489us/sample - loss: 0.0088 - mae: 0.0671 - val_loss: 0.0089 - val_mae: 0.0679\n",
      "Epoch 24/100\n",
      "69072/69072 [==============================] - 30s 438us/sample - loss: 0.0088 - mae: 0.0671 - val_loss: 0.0090 - val_mae: 0.0679\n",
      "Epoch 25/100\n",
      "69072/69072 [==============================] - 30s 434us/sample - loss: 0.0088 - mae: 0.0671 - val_loss: 0.0090 - val_mae: 0.0681\n",
      "Epoch 26/100\n",
      "69072/69072 [==============================] - 29s 425us/sample - loss: 0.0088 - mae: 0.0671 - val_loss: 0.0090 - val_mae: 0.0685\n",
      "Epoch 27/100\n",
      "69072/69072 [==============================] - 28s 401us/sample - loss: 0.0088 - mae: 0.0671 - val_loss: 0.0089 - val_mae: 0.0683\n",
      "Epoch 28/100\n",
      "69072/69072 [==============================] - 30s 436us/sample - loss: 0.0088 - mae: 0.0671 - val_loss: 0.0090 - val_mae: 0.0682\n",
      "Epoch 29/100\n",
      "69072/69072 [==============================] - 28s 408us/sample - loss: 0.0088 - mae: 0.0671 - val_loss: 0.0090 - val_mae: 0.0679\n",
      "Epoch 30/100\n",
      "69072/69072 [==============================] - 35s 506us/sample - loss: 0.0088 - mae: 0.0670 - val_loss: 0.0090 - val_mae: 0.0682\n",
      "Epoch 31/100\n",
      "69072/69072 [==============================] - 30s 431us/sample - loss: 0.0088 - mae: 0.0670 - val_loss: 0.0090 - val_mae: 0.0685\n"
     ]
    }
   ],
   "source": [
    "model_1 = Model_1()"
   ]
  },
  {
   "cell_type": "code",
   "execution_count": 11,
   "metadata": {},
   "outputs": [
    {
     "name": "stdout",
     "output_type": "stream",
     "text": [
      "69072/69072 [==============================] - 12s 179us/sample - loss: 0.0085 - mae: 0.0652\n"
     ]
    },
    {
     "data": {
      "text/plain": [
       "[0.008524559389162663, 0.065180674]"
      ]
     },
     "execution_count": 11,
     "metadata": {},
     "output_type": "execute_result"
    }
   ],
   "source": [
    "model_1.evaluate(X_train, Y_train)"
   ]
  },
  {
   "cell_type": "code",
   "execution_count": 12,
   "metadata": {},
   "outputs": [
    {
     "name": "stdout",
     "output_type": "stream",
     "text": [
      "17232/17232 [==============================] - 3s 189us/sample - loss: 0.0090 - mae: 0.0685\n"
     ]
    },
    {
     "data": {
      "text/plain": [
       "[0.008966798847627687, 0.068456165]"
      ]
     },
     "execution_count": 12,
     "metadata": {},
     "output_type": "execute_result"
    }
   ],
   "source": [
    "model_1.evaluate(X_test, Y_test)"
   ]
  },
  {
   "cell_type": "markdown",
   "metadata": {},
   "source": [
    "This first model is performing worse than the baseline model so we discard it."
   ]
  },
  {
   "cell_type": "markdown",
   "metadata": {},
   "source": [
    "-----"
   ]
  },
  {
   "cell_type": "markdown",
   "metadata": {},
   "source": [
    "Here we train our second model, a Deep Neural Network with Bidirectional LSTM."
   ]
  },
  {
   "cell_type": "code",
   "execution_count": 13,
   "metadata": {},
   "outputs": [],
   "source": [
    "def Model_2():\n",
    "    f1 = tf.keras.layers.Bidirectional(tf.keras.layers.LSTM(units=128,\n",
    "                                                            activation='tanh',\n",
    "                                                            recurrent_activation='sigmoid',\n",
    "                                                            kernel_initializer='glorot_uniform',\n",
    "                                                            bias_initializer='zeros',\n",
    "                                                            recurrent_initializer='zeros',\n",
    "                                                            return_sequences=True,\n",
    "                                                            return_state = False), \n",
    "                                       merge_mode='concat')\n",
    "    f2 = tf.keras.layers.Dropout(rate=0.5)\n",
    "    f3 = tf.keras.layers.Dense(units=128,\n",
    "                               activation='relu',\n",
    "                               kernel_initializer='glorot_uniform',\n",
    "                               bias_initializer='zeros')\n",
    "    f4 = tf.keras.layers.Dropout(rate=0.5)\n",
    "    f5 = tf.keras.layers.Dense(units=128,\n",
    "                               activation='relu',\n",
    "                               kernel_initializer='glorot_uniform',\n",
    "                               bias_initializer='zeros')\n",
    "    f6 = tf.keras.layers.Dropout(rate=0.5)\n",
    "    f7 = tf.keras.layers.Dense(units=Y_train.shape[1:][1],\n",
    "                              activation='linear',\n",
    "                              kernel_initializer='glorot_uniform',\n",
    "                              bias_initializer='zeros')\n",
    "    x = tf.keras.Input(shape=X_train.shape[1:])\n",
    "    a1 = f1(x)\n",
    "    a2 = f2(a1)\n",
    "    a3 = f3(a2)\n",
    "    a4 = f4(a3)\n",
    "    a5 = f5(a4)\n",
    "    a6 = f6(a5)\n",
    "    y = f7(a6)\n",
    "    model = tf.keras.Model(x, y)   \n",
    "    optimizer = tf.keras.optimizers.Adam(learning_rate=0.001, \n",
    "                                         beta_1=0.9, \n",
    "                                         beta_2=0.999, \n",
    "                                         epsilon=1e-07)\n",
    "    model.compile(loss='huber_loss', metrics=['mae'], optimizer=optimizer)\n",
    "    model.summary()\n",
    "    callback1 = tf.keras.callbacks.ReduceLROnPlateau(monitor='loss', \n",
    "                                                     patience=10,\n",
    "                                                     min_delta=0.001,\n",
    "                                                     factor=0.1, \n",
    "                                                     min_lr=0.0001)\n",
    "    callback2 = tf.keras.callbacks.EarlyStopping(monitor='loss',\n",
    "                                                 patience=20,\n",
    "                                                 min_delta=0.001)\n",
    "    model.fit(X_train, Y_train, epochs=100, batch_size=64, callbacks=[callback1, callback2], validation_data=(X_test, Y_test))\n",
    "    return model"
   ]
  },
  {
   "cell_type": "code",
   "execution_count": 14,
   "metadata": {
    "scrolled": true
   },
   "outputs": [
    {
     "name": "stdout",
     "output_type": "stream",
     "text": [
      "Model: \"model_1\"\n",
      "_________________________________________________________________\n",
      "Layer (type)                 Output Shape              Param #   \n",
      "=================================================================\n",
      "input_2 (InputLayer)         [(None, 24, 7)]           0         \n",
      "_________________________________________________________________\n",
      "bidirectional (Bidirectional (None, 24, 256)           139264    \n",
      "_________________________________________________________________\n",
      "dropout_1 (Dropout)          (None, 24, 256)           0         \n",
      "_________________________________________________________________\n",
      "dense_1 (Dense)              (None, 24, 128)           32896     \n",
      "_________________________________________________________________\n",
      "dropout_2 (Dropout)          (None, 24, 128)           0         \n",
      "_________________________________________________________________\n",
      "dense_2 (Dense)              (None, 24, 128)           16512     \n",
      "_________________________________________________________________\n",
      "dropout_3 (Dropout)          (None, 24, 128)           0         \n",
      "_________________________________________________________________\n",
      "dense_3 (Dense)              (None, 24, 7)             903       \n",
      "=================================================================\n",
      "Total params: 189,575\n",
      "Trainable params: 189,575\n",
      "Non-trainable params: 0\n",
      "_________________________________________________________________\n",
      "Train on 69072 samples, validate on 17232 samples\n",
      "Epoch 1/100\n",
      "69072/69072 [==============================] - 54s 776us/sample - loss: 0.0084 - mae: 0.0696 - val_loss: 0.0064 - val_mae: 0.0573\n",
      "Epoch 2/100\n",
      "69072/69072 [==============================] - 49s 702us/sample - loss: 0.0071 - mae: 0.0610 - val_loss: 0.0061 - val_mae: 0.0535\n",
      "Epoch 3/100\n",
      "69072/69072 [==============================] - 49s 706us/sample - loss: 0.0069 - mae: 0.0594 - val_loss: 0.0060 - val_mae: 0.0536\n",
      "Epoch 4/100\n",
      "69072/69072 [==============================] - 48s 699us/sample - loss: 0.0069 - mae: 0.0589 - val_loss: 0.0059 - val_mae: 0.0523\n",
      "Epoch 5/100\n",
      "69072/69072 [==============================] - 55s 791us/sample - loss: 0.0067 - mae: 0.0578 - val_loss: 0.0059 - val_mae: 0.0529\n",
      "Epoch 6/100\n",
      "69072/69072 [==============================] - 49s 715us/sample - loss: 0.0066 - mae: 0.0571 - val_loss: 0.0058 - val_mae: 0.0514\n",
      "Epoch 7/100\n",
      "69072/69072 [==============================] - 50s 728us/sample - loss: 0.0065 - mae: 0.0565 - val_loss: 0.0058 - val_mae: 0.0524\n",
      "Epoch 8/100\n",
      "69072/69072 [==============================] - 50s 722us/sample - loss: 0.0064 - mae: 0.0561 - val_loss: 0.0057 - val_mae: 0.0514\n",
      "Epoch 9/100\n",
      "69072/69072 [==============================] - 49s 716us/sample - loss: 0.0064 - mae: 0.0557 - val_loss: 0.0057 - val_mae: 0.0502\n",
      "Epoch 10/100\n",
      "69072/69072 [==============================] - 50s 729us/sample - loss: 0.0063 - mae: 0.0552 - val_loss: 0.0057 - val_mae: 0.0527\n",
      "Epoch 11/100\n",
      "69072/69072 [==============================] - 53s 761us/sample - loss: 0.0063 - mae: 0.0551 - val_loss: 0.0056 - val_mae: 0.0488\n",
      "Epoch 12/100\n",
      "69072/69072 [==============================] - 52s 747us/sample - loss: 0.0062 - mae: 0.0549 - val_loss: 0.0057 - val_mae: 0.0514\n",
      "Epoch 13/100\n",
      "69072/69072 [==============================] - 52s 749us/sample - loss: 0.0061 - mae: 0.0537 - val_loss: 0.0056 - val_mae: 0.0499\n",
      "Epoch 14/100\n",
      "69072/69072 [==============================] - 47s 687us/sample - loss: 0.0061 - mae: 0.0536 - val_loss: 0.0055 - val_mae: 0.0499\n",
      "Epoch 15/100\n",
      "69072/69072 [==============================] - 47s 684us/sample - loss: 0.0060 - mae: 0.0535 - val_loss: 0.0055 - val_mae: 0.0498\n",
      "Epoch 16/100\n",
      "69072/69072 [==============================] - 48s 694us/sample - loss: 0.0060 - mae: 0.0534 - val_loss: 0.0056 - val_mae: 0.0500\n",
      "Epoch 17/100\n",
      "69072/69072 [==============================] - 47s 686us/sample - loss: 0.0060 - mae: 0.0533 - val_loss: 0.0055 - val_mae: 0.0500\n",
      "Epoch 18/100\n",
      "69072/69072 [==============================] - 50s 727us/sample - loss: 0.0060 - mae: 0.0533 - val_loss: 0.0055 - val_mae: 0.0498\n",
      "Epoch 19/100\n",
      "69072/69072 [==============================] - 50s 729us/sample - loss: 0.0060 - mae: 0.0532 - val_loss: 0.0055 - val_mae: 0.0491\n",
      "Epoch 20/100\n",
      "69072/69072 [==============================] - 49s 705us/sample - loss: 0.0060 - mae: 0.0531 - val_loss: 0.0055 - val_mae: 0.0486\n",
      "Epoch 21/100\n",
      "69072/69072 [==============================] - 51s 734us/sample - loss: 0.0060 - mae: 0.0531 - val_loss: 0.0055 - val_mae: 0.0494\n",
      "Epoch 22/100\n",
      "69072/69072 [==============================] - 52s 758us/sample - loss: 0.0060 - mae: 0.0531 - val_loss: 0.0056 - val_mae: 0.0495\n",
      "Epoch 23/100\n",
      "69072/69072 [==============================] - 50s 717us/sample - loss: 0.0060 - mae: 0.0530 - val_loss: 0.0056 - val_mae: 0.0494\n",
      "Epoch 24/100\n",
      "69072/69072 [==============================] - 53s 765us/sample - loss: 0.0059 - mae: 0.0530 - val_loss: 0.0056 - val_mae: 0.0494\n",
      "Epoch 25/100\n",
      "69072/69072 [==============================] - 49s 708us/sample - loss: 0.0059 - mae: 0.0530 - val_loss: 0.0055 - val_mae: 0.0489\n",
      "Epoch 26/100\n",
      "69072/69072 [==============================] - 49s 706us/sample - loss: 0.0059 - mae: 0.0529 - val_loss: 0.0056 - val_mae: 0.0497\n",
      "Epoch 27/100\n",
      "69072/69072 [==============================] - 50s 726us/sample - loss: 0.0059 - mae: 0.0529 - val_loss: 0.0055 - val_mae: 0.0487\n",
      "Epoch 28/100\n",
      "69072/69072 [==============================] - 50s 727us/sample - loss: 0.0059 - mae: 0.0529 - val_loss: 0.0056 - val_mae: 0.0499\n",
      "Epoch 29/100\n",
      "69072/69072 [==============================] - 51s 732us/sample - loss: 0.0059 - mae: 0.0528 - val_loss: 0.0056 - val_mae: 0.0496\n",
      "Epoch 30/100\n",
      "69072/69072 [==============================] - 50s 726us/sample - loss: 0.0059 - mae: 0.0528 - val_loss: 0.0056 - val_mae: 0.0495\n",
      "Epoch 31/100\n",
      "69072/69072 [==============================] - 50s 729us/sample - loss: 0.0059 - mae: 0.0528 - val_loss: 0.0056 - val_mae: 0.0489\n",
      "Epoch 32/100\n",
      "69072/69072 [==============================] - 50s 719us/sample - loss: 0.0059 - mae: 0.0526 - val_loss: 0.0055 - val_mae: 0.0494\n",
      "Epoch 33/100\n",
      "69072/69072 [==============================] - 50s 719us/sample - loss: 0.0059 - mae: 0.0527 - val_loss: 0.0055 - val_mae: 0.0493\n"
     ]
    }
   ],
   "source": [
    "model_2 = Model_2()"
   ]
  },
  {
   "cell_type": "code",
   "execution_count": 15,
   "metadata": {},
   "outputs": [
    {
     "name": "stdout",
     "output_type": "stream",
     "text": [
      "69072/69072 [==============================] - 20s 292us/sample - loss: 0.0053 - mae: 0.0476\n"
     ]
    },
    {
     "data": {
      "text/plain": [
       "[0.005280584946508505, 0.04756076]"
      ]
     },
     "execution_count": 15,
     "metadata": {},
     "output_type": "execute_result"
    }
   ],
   "source": [
    "model_2.evaluate(X_train, Y_train)"
   ]
  },
  {
   "cell_type": "code",
   "execution_count": 16,
   "metadata": {},
   "outputs": [
    {
     "name": "stdout",
     "output_type": "stream",
     "text": [
      "17232/17232 [==============================] - 5s 290us/sample - loss: 0.0055 - mae: 0.0493\n"
     ]
    },
    {
     "data": {
      "text/plain": [
       "[0.005532963803531334, 0.049253885]"
      ]
     },
     "execution_count": 16,
     "metadata": {},
     "output_type": "execute_result"
    }
   ],
   "source": [
    "model_2.evaluate(X_test, Y_test)"
   ]
  },
  {
   "cell_type": "markdown",
   "metadata": {},
   "source": [
    "This second model beats the provided baseline model MAE so we propose it as the new baseline model to beat."
   ]
  },
  {
   "cell_type": "markdown",
   "metadata": {},
   "source": [
    "-----"
   ]
  },
  {
   "cell_type": "markdown",
   "metadata": {},
   "source": [
    "Here we train our third and final model, a Deep Neural Network with Conv1D and Bidirectional LSTM."
   ]
  },
  {
   "cell_type": "code",
   "execution_count": 17,
   "metadata": {},
   "outputs": [],
   "source": [
    "def Model_3():\n",
    "    f1 = tf.keras.layers.Conv1D(filters=256, \n",
    "                                kernel_size=5, \n",
    "                                strides=1,\n",
    "                                padding='causal',\n",
    "                                activation='relu',\n",
    "                                kernel_initializer='glorot_uniform',\n",
    "                                bias_initializer='zeros')\n",
    "    f2 = tf.keras.layers.Bidirectional(tf.keras.layers.LSTM(units=128,\n",
    "                                                            activation='tanh',\n",
    "                                                            recurrent_activation='sigmoid',\n",
    "                                                            kernel_initializer='glorot_uniform',\n",
    "                                                            bias_initializer='zeros',\n",
    "                                                            recurrent_initializer='zeros',\n",
    "                                                            return_sequences=True,\n",
    "                                                            return_state = False), \n",
    "                                       merge_mode='concat')\n",
    "    f3 = tf.keras.layers.Dropout(rate=0.5)\n",
    "    f4 = tf.keras.layers.Dense(units=128,\n",
    "                               activation='relu',\n",
    "                               kernel_initializer='glorot_uniform',\n",
    "                               bias_initializer='zeros')\n",
    "    f5 = tf.keras.layers.Dropout(rate=0.5)\n",
    "    f6 = tf.keras.layers.Dense(units=128,\n",
    "                               activation='relu',\n",
    "                               kernel_initializer='glorot_uniform',\n",
    "                               bias_initializer='zeros')\n",
    "    f7 = tf.keras.layers.Dropout(rate=0.5)\n",
    "    f8 = tf.keras.layers.Dense(units=Y_train.shape[1:][1],\n",
    "                                activation='linear',\n",
    "                                kernel_initializer='glorot_uniform',\n",
    "                                bias_initializer='zeros')\n",
    "    x = tf.keras.Input(shape=X_train.shape[1:])\n",
    "    a1 = f1(x)\n",
    "    a2 = f2(a1)\n",
    "    a3 = f3(a2)\n",
    "    a4 = f4(a3)\n",
    "    a5 = f5(a4)\n",
    "    a6 = f6(a5)\n",
    "    a7 = f7(a6)\n",
    "    y = f8(a7)\n",
    "    model = tf.keras.Model(x, y)   \n",
    "    optimizer = tf.keras.optimizers.Adam(learning_rate=0.001, \n",
    "                                         beta_1=0.9, \n",
    "                                         beta_2=0.999, \n",
    "                                         epsilon=1e-07)\n",
    "    model.compile(loss='huber_loss', metrics=['mae'], optimizer=optimizer)\n",
    "    model.summary()\n",
    "    callback1 = tf.keras.callbacks.ReduceLROnPlateau(monitor='loss', \n",
    "                                                     patience=5,\n",
    "                                                     min_delta=0.001,\n",
    "                                                     factor=0.1, \n",
    "                                                     min_lr=0.0001)\n",
    "    callback2 = tf.keras.callbacks.EarlyStopping(monitor='loss',\n",
    "                                                 patience=20,\n",
    "                                                 min_delta=0.001)\n",
    "    model.fit(X_train, Y_train, epochs=100, batch_size=64, callbacks=[callback1, callback2], validation_data=(X_test, Y_test))\n",
    "    return model"
   ]
  },
  {
   "cell_type": "code",
   "execution_count": 18,
   "metadata": {
    "scrolled": true
   },
   "outputs": [
    {
     "name": "stdout",
     "output_type": "stream",
     "text": [
      "Model: \"model_2\"\n",
      "_________________________________________________________________\n",
      "Layer (type)                 Output Shape              Param #   \n",
      "=================================================================\n",
      "input_3 (InputLayer)         [(None, 24, 7)]           0         \n",
      "_________________________________________________________________\n",
      "conv1d (Conv1D)              (None, 24, 256)           9216      \n",
      "_________________________________________________________________\n",
      "bidirectional_1 (Bidirection (None, 24, 256)           394240    \n",
      "_________________________________________________________________\n",
      "dropout_4 (Dropout)          (None, 24, 256)           0         \n",
      "_________________________________________________________________\n",
      "dense_4 (Dense)              (None, 24, 128)           32896     \n",
      "_________________________________________________________________\n",
      "dropout_5 (Dropout)          (None, 24, 128)           0         \n",
      "_________________________________________________________________\n",
      "dense_5 (Dense)              (None, 24, 128)           16512     \n",
      "_________________________________________________________________\n",
      "dropout_6 (Dropout)          (None, 24, 128)           0         \n",
      "_________________________________________________________________\n",
      "dense_6 (Dense)              (None, 24, 7)             903       \n",
      "=================================================================\n",
      "Total params: 453,767\n",
      "Trainable params: 453,767\n",
      "Non-trainable params: 0\n",
      "_________________________________________________________________\n",
      "Train on 69072 samples, validate on 17232 samples\n",
      "Epoch 1/100\n",
      "69072/69072 [==============================] - 101s 1ms/sample - loss: 0.0080 - mae: 0.0674 - val_loss: 0.0062 - val_mae: 0.0554\n",
      "Epoch 2/100\n",
      "69072/69072 [==============================] - 91s 1ms/sample - loss: 0.0069 - mae: 0.0599 - val_loss: 0.0063 - val_mae: 0.0537\n",
      "Epoch 3/100\n",
      "69072/69072 [==============================] - 89s 1ms/sample - loss: 0.0068 - mae: 0.0589 - val_loss: 0.0059 - val_mae: 0.0526\n",
      "Epoch 4/100\n",
      "69072/69072 [==============================] - 88s 1ms/sample - loss: 0.0066 - mae: 0.0577 - val_loss: 0.0061 - val_mae: 0.0532\n",
      "Epoch 5/100\n",
      "69072/69072 [==============================] - 87s 1ms/sample - loss: 0.0067 - mae: 0.0580 - val_loss: 0.0060 - val_mae: 0.0528\n",
      "Epoch 6/100\n",
      "69072/69072 [==============================] - 87s 1ms/sample - loss: 0.0065 - mae: 0.0565 - val_loss: 0.0059 - val_mae: 0.0520\n",
      "Epoch 7/100\n",
      "69072/69072 [==============================] - 87s 1ms/sample - loss: 0.0063 - mae: 0.0556 - val_loss: 0.0056 - val_mae: 0.0506\n",
      "Epoch 8/100\n",
      "69072/69072 [==============================] - 87s 1ms/sample - loss: 0.0061 - mae: 0.0540 - val_loss: 0.0055 - val_mae: 0.0506\n",
      "Epoch 9/100\n",
      "69072/69072 [==============================] - 87s 1ms/sample - loss: 0.0061 - mae: 0.0538 - val_loss: 0.0055 - val_mae: 0.0500\n",
      "Epoch 10/100\n",
      "69072/69072 [==============================] - 87s 1ms/sample - loss: 0.0061 - mae: 0.0537 - val_loss: 0.0055 - val_mae: 0.0499\n",
      "Epoch 11/100\n",
      "69072/69072 [==============================] - 87s 1ms/sample - loss: 0.0060 - mae: 0.0536 - val_loss: 0.0055 - val_mae: 0.0494\n",
      "Epoch 12/100\n",
      "69072/69072 [==============================] - 87s 1ms/sample - loss: 0.0060 - mae: 0.0534 - val_loss: 0.0055 - val_mae: 0.0516\n",
      "Epoch 13/100\n",
      "69072/69072 [==============================] - 87s 1ms/sample - loss: 0.0060 - mae: 0.0534 - val_loss: 0.0055 - val_mae: 0.0501\n",
      "Epoch 14/100\n",
      "69072/69072 [==============================] - 87s 1ms/sample - loss: 0.0060 - mae: 0.0533 - val_loss: 0.0055 - val_mae: 0.0495\n",
      "Epoch 15/100\n",
      "69072/69072 [==============================] - 87s 1ms/sample - loss: 0.0060 - mae: 0.0532 - val_loss: 0.0055 - val_mae: 0.0498\n",
      "Epoch 16/100\n",
      "69072/69072 [==============================] - 87s 1ms/sample - loss: 0.0059 - mae: 0.0530 - val_loss: 0.0055 - val_mae: 0.0493\n",
      "Epoch 17/100\n",
      "69072/69072 [==============================] - 87s 1ms/sample - loss: 0.0059 - mae: 0.0529 - val_loss: 0.0054 - val_mae: 0.0495\n",
      "Epoch 18/100\n",
      "69072/69072 [==============================] - 87s 1ms/sample - loss: 0.0059 - mae: 0.0529 - val_loss: 0.0055 - val_mae: 0.0489\n",
      "Epoch 19/100\n",
      "69072/69072 [==============================] - 87s 1ms/sample - loss: 0.0059 - mae: 0.0527 - val_loss: 0.0055 - val_mae: 0.0493\n",
      "Epoch 20/100\n",
      "69072/69072 [==============================] - 87s 1ms/sample - loss: 0.0059 - mae: 0.0526 - val_loss: 0.0055 - val_mae: 0.0493\n",
      "Epoch 21/100\n",
      "69072/69072 [==============================] - 87s 1ms/sample - loss: 0.0058 - mae: 0.0525 - val_loss: 0.0055 - val_mae: 0.0492\n",
      "Epoch 22/100\n",
      "69072/69072 [==============================] - 86s 1ms/sample - loss: 0.0058 - mae: 0.0525 - val_loss: 0.0055 - val_mae: 0.0491\n",
      "Epoch 23/100\n",
      "69072/69072 [==============================] - 86s 1ms/sample - loss: 0.0058 - mae: 0.0523 - val_loss: 0.0055 - val_mae: 0.0493\n",
      "Epoch 24/100\n",
      "69072/69072 [==============================] - 87s 1ms/sample - loss: 0.0058 - mae: 0.0522 - val_loss: 0.0055 - val_mae: 0.0491\n",
      "Epoch 25/100\n",
      "69072/69072 [==============================] - 86s 1ms/sample - loss: 0.0058 - mae: 0.0521 - val_loss: 0.0055 - val_mae: 0.0492\n",
      "Epoch 26/100\n",
      "69072/69072 [==============================] - 87s 1ms/sample - loss: 0.0058 - mae: 0.0521 - val_loss: 0.0055 - val_mae: 0.0491\n",
      "Epoch 27/100\n",
      "69072/69072 [==============================] - 87s 1ms/sample - loss: 0.0057 - mae: 0.0520 - val_loss: 0.0055 - val_mae: 0.0480\n",
      "Epoch 28/100\n",
      "69072/69072 [==============================] - 87s 1ms/sample - loss: 0.0057 - mae: 0.0519 - val_loss: 0.0055 - val_mae: 0.0492\n",
      "Epoch 29/100\n",
      "69072/69072 [==============================] - 87s 1ms/sample - loss: 0.0057 - mae: 0.0518 - val_loss: 0.0056 - val_mae: 0.0496\n",
      "Epoch 30/100\n",
      "69072/69072 [==============================] - 87s 1ms/sample - loss: 0.0057 - mae: 0.0517 - val_loss: 0.0055 - val_mae: 0.0494\n",
      "Epoch 31/100\n",
      "69072/69072 [==============================] - 87s 1ms/sample - loss: 0.0057 - mae: 0.0516 - val_loss: 0.0055 - val_mae: 0.0490\n",
      "Epoch 32/100\n",
      "69072/69072 [==============================] - 87s 1ms/sample - loss: 0.0057 - mae: 0.0515 - val_loss: 0.0055 - val_mae: 0.0487\n",
      "Epoch 33/100\n",
      "69072/69072 [==============================] - 87s 1ms/sample - loss: 0.0056 - mae: 0.0515 - val_loss: 0.0056 - val_mae: 0.0494\n",
      "Epoch 34/100\n",
      "69072/69072 [==============================] - 87s 1ms/sample - loss: 0.0056 - mae: 0.0514 - val_loss: 0.0056 - val_mae: 0.0493\n",
      "Epoch 35/100\n",
      "69072/69072 [==============================] - 87s 1ms/sample - loss: 0.0056 - mae: 0.0513 - val_loss: 0.0055 - val_mae: 0.0484\n",
      "Epoch 36/100\n",
      "69072/69072 [==============================] - 87s 1ms/sample - loss: 0.0056 - mae: 0.0512 - val_loss: 0.0056 - val_mae: 0.0491\n"
     ]
    }
   ],
   "source": [
    "model_3 = Model_3()"
   ]
  },
  {
   "cell_type": "code",
   "execution_count": 19,
   "metadata": {},
   "outputs": [
    {
     "name": "stdout",
     "output_type": "stream",
     "text": [
      "69072/69072 [==============================] - 26s 381us/sample - loss: 0.0049 - mae: 0.0456\n"
     ]
    },
    {
     "data": {
      "text/plain": [
       "[0.00494401850777542, 0.04561259]"
      ]
     },
     "execution_count": 19,
     "metadata": {},
     "output_type": "execute_result"
    }
   ],
   "source": [
    "model_3.evaluate(X_train, Y_train)"
   ]
  },
  {
   "cell_type": "code",
   "execution_count": 20,
   "metadata": {},
   "outputs": [
    {
     "name": "stdout",
     "output_type": "stream",
     "text": [
      "17232/17232 [==============================] - 7s 386us/sample - loss: 0.0056 - mae: 0.0491\n"
     ]
    },
    {
     "data": {
      "text/plain": [
       "[0.005590735885979194, 0.0490793]"
      ]
     },
     "execution_count": 20,
     "metadata": {},
     "output_type": "execute_result"
    }
   ],
   "source": [
    "model_3.evaluate(X_test, Y_test)"
   ]
  },
  {
   "cell_type": "markdown",
   "metadata": {},
   "source": [
    "#### As we can see, this last model beats the provided baseline model MAE, so it could be considered a candidate solution for the original problem presented. Additional exploration of hyperparameters would be necessary to make a final conclusion. "
   ]
  }
 ],
 "metadata": {
  "kernelspec": {
   "display_name": "Python 3",
   "language": "python",
   "name": "python3"
  },
  "language_info": {
   "codemirror_mode": {
    "name": "ipython",
    "version": 3
   },
   "file_extension": ".py",
   "mimetype": "text/x-python",
   "name": "python",
   "nbconvert_exporter": "python",
   "pygments_lexer": "ipython3",
   "version": "3.6.9"
  }
 },
 "nbformat": 4,
 "nbformat_minor": 2
}
